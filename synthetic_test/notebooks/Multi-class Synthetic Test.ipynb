{
 "cells": [
  {
   "cell_type": "code",
   "execution_count": 1,
   "metadata": {},
   "outputs": [],
   "source": [
    "import re\n",
    "import sys\n",
    "\n",
    "sys.path.append('..')\n",
    "sys.path.append('../..')"
   ]
  },
  {
   "cell_type": "code",
   "execution_count": 2,
   "metadata": {},
   "outputs": [],
   "source": [
    "import clingo\n",
    "import numpy as np\n",
    "from sklearn.model_selection import train_test_split\n",
    "from sklearn.metrics import jaccard_score\n",
    "\n",
    "import torch\n",
    "from torch.utils.data import DataLoader"
   ]
  },
  {
   "cell_type": "code",
   "execution_count": 3,
   "metadata": {},
   "outputs": [],
   "source": [
    "from dnf_layer import SemiSymbolicLayerType\n",
    "from rule_learner import DNFClassifierEO, DNFClassifier\n",
    "from test_common import SyntheticDataset\n",
    "from utils import DeltaDelayedExponentialDecayScheduler\n",
    "from dnf_post_train import (\n",
    "    remove_unused_conjunctions,\n",
    "    remove_disjunctions_when_empty_conjunctions,\n",
    ")"
   ]
  },
  {
   "cell_type": "code",
   "execution_count": 4,
   "metadata": {},
   "outputs": [],
   "source": [
    "RNG_SEED = 73\n",
    "\n",
    "NUM_IN = 15\n",
    "NUM_CONJ = 9\n",
    "NUM_CLASSES = 3\n",
    "\n",
    "SYNTH_DATA_PATH = f'synth_multiclass_data_in{NUM_IN}_conj{NUM_CONJ}_out{NUM_CLASSES}.npz'\n",
    "\n",
    "BATCH_SIZE = 256\n",
    "NUM_EPOCHS = 100"
   ]
  },
  {
   "cell_type": "code",
   "execution_count": 5,
   "metadata": {},
   "outputs": [],
   "source": [
    "torch.manual_seed(RNG_SEED)\n",
    "np.random.seed(RNG_SEED)"
   ]
  },
  {
   "cell_type": "code",
   "execution_count": 6,
   "metadata": {},
   "outputs": [],
   "source": [
    "dnpz = np.load(SYNTH_DATA_PATH)\n",
    "full_nullary = dnpz['nullary']\n",
    "full_target = dnpz['target']"
   ]
  },
  {
   "cell_type": "code",
   "execution_count": 7,
   "metadata": {},
   "outputs": [],
   "source": [
    "nullary_full_train, nullary_test, target_full_train, target_test = train_test_split(\n",
    "    full_nullary, full_target, random_state=RNG_SEED)\n",
    "nullary_train, nullary_val, target_train, target_val = train_test_split(\n",
    "    nullary_full_train, target_full_train, test_size=0.2, random_state=RNG_SEED\n",
    ")\n",
    "\n",
    "train_loader = DataLoader(SyntheticDataset(nullary_train, target_train), BATCH_SIZE)\n",
    "val_loader = DataLoader(SyntheticDataset(nullary_val, target_val), BATCH_SIZE)\n",
    "test_loader = DataLoader(SyntheticDataset(nullary_test, target_test), BATCH_SIZE)"
   ]
  },
  {
   "cell_type": "code",
   "execution_count": 8,
   "metadata": {},
   "outputs": [],
   "source": [
    "model = DNFClassifierEO(NUM_IN, NUM_CONJ, NUM_CLASSES, 0.1)\n",
    "delta_decay_scheduler = DeltaDelayedExponentialDecayScheduler(\n",
    "    initial_delta=0.1,\n",
    "    delta_decay_delay=10,\n",
    "    delta_decay_steps=1,\n",
    "    delta_decay_rate=1.1,\n",
    ")\n",
    "optimiser = torch.optim.Adam(model.parameters(), 0.001)\n",
    "criterion = torch.nn.CrossEntropyLoss()"
   ]
  },
  {
   "cell_type": "code",
   "execution_count": 9,
   "metadata": {},
   "outputs": [
    {
     "name": "stdout",
     "output_type": "stream",
     "text": [
      "[  1] Delta: 0.100  Train avg loss: 1.021  Val acc: 0.739\n",
      "[  2] Delta: 0.100  Train avg loss: 0.642  Val acc: 0.949\n",
      "[  3] Delta: 0.100  Train avg loss: 0.409  Val acc: 0.990\n",
      "[  4] Delta: 0.100  Train avg loss: 0.266  Val acc: 0.997\n",
      "[  5] Delta: 0.100  Train avg loss: 0.180  Val acc: 1.000\n",
      "[  6] Delta: 0.100  Train avg loss: 0.129  Val acc: 1.000\n",
      "[  7] Delta: 0.100  Train avg loss: 0.097  Val acc: 1.000\n",
      "[  8] Delta: 0.100  Train avg loss: 0.076  Val acc: 1.000\n",
      "[  9] Delta: 0.100  Train avg loss: 0.062  Val acc: 1.000\n",
      "[ 10] Delta: 0.100  Train avg loss: 0.051  Val acc: 1.000\n",
      "[ 11] Delta: 0.100  Train avg loss: 0.044  Val acc: 1.000\n",
      "[ 12] Delta: 0.110  Train avg loss: 0.037  Val acc: 1.000\n",
      "[ 13] Delta: 0.121  Train avg loss: 0.033  Val acc: 1.000\n",
      "[ 14] Delta: 0.133  Train avg loss: 0.030  Val acc: 1.000\n",
      "[ 15] Delta: 0.146  Train avg loss: 0.027  Val acc: 1.000\n",
      "[ 16] Delta: 0.161  Train avg loss: 0.025  Val acc: 1.000\n",
      "[ 17] Delta: 0.177  Train avg loss: 0.023  Val acc: 1.000\n",
      "[ 18] Delta: 0.195  Train avg loss: 0.022  Val acc: 1.000\n",
      "[ 19] Delta: 0.214  Train avg loss: 0.021  Val acc: 1.000\n",
      "[ 20] Delta: 0.236  Train avg loss: 0.020  Val acc: 1.000\n",
      "[ 21] Delta: 0.259  Train avg loss: 0.019  Val acc: 1.000\n",
      "[ 22] Delta: 0.285  Train avg loss: 0.019  Val acc: 1.000\n",
      "[ 23] Delta: 0.314  Train avg loss: 0.019  Val acc: 1.000\n",
      "[ 24] Delta: 0.345  Train avg loss: 0.020  Val acc: 1.000\n",
      "[ 25] Delta: 0.380  Train avg loss: 0.020  Val acc: 1.000\n",
      "[ 26] Delta: 0.418  Train avg loss: 0.021  Val acc: 1.000\n",
      "[ 27] Delta: 0.459  Train avg loss: 0.023  Val acc: 1.000\n",
      "[ 28] Delta: 0.505  Train avg loss: 0.025  Val acc: 1.000\n",
      "[ 29] Delta: 0.556  Train avg loss: 0.027  Val acc: 1.000\n",
      "[ 30] Delta: 0.612  Train avg loss: 0.030  Val acc: 1.000\n",
      "[ 31] Delta: 0.673  Train avg loss: 0.033  Val acc: 1.000\n",
      "[ 32] Delta: 0.740  Train avg loss: 0.037  Val acc: 1.000\n",
      "[ 33] Delta: 0.814  Train avg loss: 0.041  Val acc: 1.000\n",
      "[ 34] Delta: 0.895  Train avg loss: 0.046  Val acc: 1.000\n",
      "[ 35] Delta: 0.985  Train avg loss: 0.054  Val acc: 1.000\n",
      "[ 36] Delta: 1.000  Train avg loss: 0.065  Val acc: 1.000\n",
      "[ 37] Delta: 1.000  Train avg loss: 0.051  Val acc: 1.000\n",
      "[ 38] Delta: 1.000  Train avg loss: 0.040  Val acc: 1.000\n",
      "[ 39] Delta: 1.000  Train avg loss: 0.033  Val acc: 1.000\n",
      "[ 40] Delta: 1.000  Train avg loss: 0.028  Val acc: 1.000\n",
      "[ 41] Delta: 1.000  Train avg loss: 0.025  Val acc: 1.000\n",
      "[ 42] Delta: 1.000  Train avg loss: 0.022  Val acc: 1.000\n",
      "[ 43] Delta: 1.000  Train avg loss: 0.020  Val acc: 1.000\n",
      "[ 44] Delta: 1.000  Train avg loss: 0.018  Val acc: 1.000\n",
      "[ 45] Delta: 1.000  Train avg loss: 0.017  Val acc: 1.000\n",
      "[ 46] Delta: 1.000  Train avg loss: 0.016  Val acc: 1.000\n",
      "[ 47] Delta: 1.000  Train avg loss: 0.014  Val acc: 1.000\n",
      "[ 48] Delta: 1.000  Train avg loss: 0.013  Val acc: 1.000\n",
      "[ 49] Delta: 1.000  Train avg loss: 0.013  Val acc: 1.000\n",
      "[ 50] Delta: 1.000  Train avg loss: 0.012  Val acc: 1.000\n",
      "[ 51] Delta: 1.000  Train avg loss: 0.011  Val acc: 1.000\n",
      "[ 52] Delta: 1.000  Train avg loss: 0.011  Val acc: 1.000\n",
      "[ 53] Delta: 1.000  Train avg loss: 0.010  Val acc: 1.000\n",
      "[ 54] Delta: 1.000  Train avg loss: 0.010  Val acc: 1.000\n",
      "[ 55] Delta: 1.000  Train avg loss: 0.009  Val acc: 1.000\n",
      "[ 56] Delta: 1.000  Train avg loss: 0.009  Val acc: 1.000\n",
      "[ 57] Delta: 1.000  Train avg loss: 0.008  Val acc: 1.000\n",
      "[ 58] Delta: 1.000  Train avg loss: 0.008  Val acc: 1.000\n",
      "[ 59] Delta: 1.000  Train avg loss: 0.008  Val acc: 1.000\n",
      "[ 60] Delta: 1.000  Train avg loss: 0.007  Val acc: 1.000\n",
      "[ 61] Delta: 1.000  Train avg loss: 0.007  Val acc: 1.000\n",
      "[ 62] Delta: 1.000  Train avg loss: 0.007  Val acc: 1.000\n",
      "[ 63] Delta: 1.000  Train avg loss: 0.006  Val acc: 1.000\n",
      "[ 64] Delta: 1.000  Train avg loss: 0.006  Val acc: 1.000\n",
      "[ 65] Delta: 1.000  Train avg loss: 0.006  Val acc: 1.000\n",
      "[ 66] Delta: 1.000  Train avg loss: 0.006  Val acc: 1.000\n",
      "[ 67] Delta: 1.000  Train avg loss: 0.006  Val acc: 1.000\n",
      "[ 68] Delta: 1.000  Train avg loss: 0.005  Val acc: 1.000\n",
      "[ 69] Delta: 1.000  Train avg loss: 0.005  Val acc: 1.000\n",
      "[ 70] Delta: 1.000  Train avg loss: 0.005  Val acc: 1.000\n",
      "[ 71] Delta: 1.000  Train avg loss: 0.005  Val acc: 1.000\n",
      "[ 72] Delta: 1.000  Train avg loss: 0.005  Val acc: 1.000\n",
      "[ 73] Delta: 1.000  Train avg loss: 0.005  Val acc: 1.000\n",
      "[ 74] Delta: 1.000  Train avg loss: 0.004  Val acc: 1.000\n",
      "[ 75] Delta: 1.000  Train avg loss: 0.004  Val acc: 1.000\n",
      "[ 76] Delta: 1.000  Train avg loss: 0.004  Val acc: 1.000\n",
      "[ 77] Delta: 1.000  Train avg loss: 0.004  Val acc: 1.000\n",
      "[ 78] Delta: 1.000  Train avg loss: 0.004  Val acc: 1.000\n",
      "[ 79] Delta: 1.000  Train avg loss: 0.004  Val acc: 1.000\n",
      "[ 80] Delta: 1.000  Train avg loss: 0.004  Val acc: 1.000\n",
      "[ 81] Delta: 1.000  Train avg loss: 0.004  Val acc: 1.000\n",
      "[ 82] Delta: 1.000  Train avg loss: 0.004  Val acc: 1.000\n",
      "[ 83] Delta: 1.000  Train avg loss: 0.003  Val acc: 1.000\n",
      "[ 84] Delta: 1.000  Train avg loss: 0.003  Val acc: 1.000\n",
      "[ 85] Delta: 1.000  Train avg loss: 0.003  Val acc: 1.000\n",
      "[ 86] Delta: 1.000  Train avg loss: 0.003  Val acc: 1.000\n",
      "[ 87] Delta: 1.000  Train avg loss: 0.003  Val acc: 1.000\n",
      "[ 88] Delta: 1.000  Train avg loss: 0.003  Val acc: 1.000\n",
      "[ 89] Delta: 1.000  Train avg loss: 0.003  Val acc: 1.000\n",
      "[ 90] Delta: 1.000  Train avg loss: 0.003  Val acc: 1.000\n",
      "[ 91] Delta: 1.000  Train avg loss: 0.003  Val acc: 1.000\n",
      "[ 92] Delta: 1.000  Train avg loss: 0.003  Val acc: 1.000\n",
      "[ 93] Delta: 1.000  Train avg loss: 0.003  Val acc: 1.000\n",
      "[ 94] Delta: 1.000  Train avg loss: 0.003  Val acc: 1.000\n",
      "[ 95] Delta: 1.000  Train avg loss: 0.003  Val acc: 1.000\n",
      "[ 96] Delta: 1.000  Train avg loss: 0.003  Val acc: 1.000\n",
      "[ 97] Delta: 1.000  Train avg loss: 0.002  Val acc: 1.000\n",
      "[ 98] Delta: 1.000  Train avg loss: 0.002  Val acc: 1.000\n",
      "[ 99] Delta: 1.000  Train avg loss: 0.002  Val acc: 1.000\n",
      "[100] Delta: 1.000  Train avg loss: 0.002  Val acc: 1.000\n"
     ]
    }
   ],
   "source": [
    "for i in range(NUM_EPOCHS):\n",
    "    model.train()\n",
    "    epoch_loss = []\n",
    "    for x, y in train_loader:\n",
    "        optimiser.zero_grad()\n",
    "        y_hat = model(x.float())\n",
    "        loss = criterion(y_hat, y.float())\n",
    "        loss.backward()\n",
    "        optimiser.step()\n",
    "\n",
    "        epoch_loss.append(loss.item())\n",
    "    \n",
    "    model.eval()    \n",
    "    val_correct = 0\n",
    "    val_total = 0\n",
    "    for x, y in val_loader:\n",
    "        with torch.no_grad():\n",
    "            y_hat = torch.tanh(model(x.float()))\n",
    "            _, y_pred = torch.max(y_hat, 1)\n",
    "            val_correct += torch.sum(y_pred == (torch.argmax(y, dim=1))).item()\n",
    "            val_total += len(y)\n",
    "\n",
    "    new_delta_val = delta_decay_scheduler.step(model, i)\n",
    "    avg_loss = sum(epoch_loss) / len(epoch_loss)\n",
    "    print(f'[{i + 1:3d}] Delta: {new_delta_val:.3f}  '\n",
    "          f'Train avg loss: {avg_loss:.3f}  '\n",
    "          f'Val acc: {val_correct / val_total:.3f}')"
   ]
  },
  {
   "cell_type": "code",
   "execution_count": 10,
   "metadata": {},
   "outputs": [],
   "source": [
    "torch.save(model.state_dict(), f'dnfeo_multi_class_synth_{RNG_SEED}.pth')\n",
    "# model.load_state_dict(torch.load(f'dnfeo_synth_{RNG_SEED}.pth')) "
   ]
  },
  {
   "cell_type": "code",
   "execution_count": 11,
   "metadata": {},
   "outputs": [
    {
     "data": {
      "text/plain": [
       "<All keys matched successfully>"
      ]
     },
     "execution_count": 11,
     "metadata": {},
     "output_type": "execute_result"
    }
   ],
   "source": [
    "model2 = DNFClassifier(NUM_IN, NUM_CONJ, NUM_CLASSES, 1)\n",
    "\n",
    "sd = model.state_dict()\n",
    "sd.pop('eo_layer.weights')\n",
    "model2.load_state_dict(sd)"
   ]
  },
  {
   "cell_type": "code",
   "execution_count": 12,
   "metadata": {},
   "outputs": [],
   "source": [
    "def eval_multi_class_dnf(model, data_loader):\n",
    "    # Return accuracy and Jaccard score\n",
    "    correct = 0\n",
    "    total = 0\n",
    "    jaccard_scores = []\n",
    "    for x, y in data_loader:\n",
    "        with torch.no_grad():\n",
    "            y_hat = torch.tanh(model(x.float()))\n",
    "            _, y_pred = torch.max(y_hat, 1)\n",
    "            correct += torch.sum(y_pred == (torch.argmax(y, dim=1))).item()\n",
    "            total += len(y)\n",
    "            y_hat_jacc = (y_hat > 0).int()\n",
    "            jacc = jaccard_score(y.detach().cpu().numpy(), y_hat_jacc.detach().cpu().numpy(), average='samples')\n",
    "            jaccard_scores.append(jacc)\n",
    "\n",
    "    return (correct / total), (sum(jaccard_scores) / len(jaccard_scores))"
   ]
  },
  {
   "cell_type": "code",
   "execution_count": 13,
   "metadata": {},
   "outputs": [
    {
     "name": "stdout",
     "output_type": "stream",
     "text": [
      "Accuarcy: 1.000\n",
      "Jaccard:  1.000\n"
     ]
    }
   ],
   "source": [
    "acc, jacc =  eval_multi_class_dnf(model2, test_loader)\n",
    "print(f'Accuarcy: {acc:.3f}')\n",
    "print(f'Jaccard:  {jacc:.3f}')"
   ]
  },
  {
   "attachments": {},
   "cell_type": "markdown",
   "metadata": {},
   "source": [
    "# Post Training Process"
   ]
  },
  {
   "cell_type": "code",
   "execution_count": 14,
   "metadata": {},
   "outputs": [],
   "source": [
    "def prune_layer_weight(\n",
    "    model,\n",
    "    layer_type: SemiSymbolicLayerType,\n",
    "    epsilon: float,\n",
    "    data_loader: DataLoader,\n",
    ") -> int:\n",
    "    if layer_type == SemiSymbolicLayerType.CONJUNCTION:\n",
    "        curr_weight = model.dnf.conjunctions.weights.data.clone()\n",
    "    else:\n",
    "        curr_weight = model.dnf.disjunctions.weights.data.clone()\n",
    "\n",
    "    _, og_jacc = eval_multi_class_dnf(model, data_loader)\n",
    "\n",
    "    prune_count = 0\n",
    "    weight_device = curr_weight.device\n",
    "\n",
    "    flatten_weight_len = len(torch.reshape(curr_weight, (-1,)))\n",
    "    base_iterator = range(flatten_weight_len)\n",
    "    for i in base_iterator:\n",
    "        curr_weight_flatten = torch.reshape(curr_weight, (-1,))\n",
    "\n",
    "        if curr_weight_flatten[i] == 0:\n",
    "            continue\n",
    "\n",
    "        mask = torch.ones(flatten_weight_len, device=weight_device)\n",
    "        mask[i] = 0\n",
    "        mask = mask.reshape(curr_weight.shape)\n",
    "\n",
    "        masked_weight = curr_weight * mask\n",
    "\n",
    "        if layer_type == SemiSymbolicLayerType.CONJUNCTION:\n",
    "            model.dnf.conjunctions.weights.data = masked_weight\n",
    "        else:\n",
    "            model.dnf.disjunctions.weights.data = masked_weight\n",
    "\n",
    "        _, new_jacc = eval_multi_class_dnf(model, data_loader)\n",
    "        performance_drop = og_jacc - new_jacc\n",
    "        if performance_drop < epsilon:\n",
    "            prune_count += 1\n",
    "            curr_weight *= mask\n",
    "\n",
    "    if layer_type == SemiSymbolicLayerType.CONJUNCTION:\n",
    "        model.dnf.conjunctions.weights.data = curr_weight\n",
    "    else:\n",
    "        model.dnf.disjunctions.weights.data = curr_weight\n",
    "    return prune_count"
   ]
  },
  {
   "cell_type": "code",
   "execution_count": 15,
   "metadata": {},
   "outputs": [
    {
     "name": "stdout",
     "output_type": "stream",
     "text": [
      "Prune disj layer\n",
      "Pruned disj count:   22\n",
      "New perf after disj: 1.000\n",
      "\n",
      "Remove unused conjunctions: 0\n",
      "\n",
      "Prune conj layer\n",
      "Pruned conj count:   113\n",
      "New perf after conj: 0.996\n",
      "\n",
      "Remove disjunction that uses empty conjunctions: 0\n",
      "\n",
      "Prune disj layer again\n",
      "Pruned disj count:   1\n",
      "New perf after disj: 0.996\n"
     ]
    }
   ],
   "source": [
    "prune_epsilon = 0.005\n",
    "print('Prune disj layer')\n",
    "prune_count = prune_layer_weight(model2, SemiSymbolicLayerType.DISJUNCTION, \n",
    "    prune_epsilon, val_loader)\n",
    "_, new_jacc = eval_multi_class_dnf(model2, val_loader)\n",
    "print(f'Pruned disj count:   {prune_count}')\n",
    "print(f'New perf after disj: {new_jacc:.3f}\\n')\n",
    "\n",
    "unused_conj = remove_unused_conjunctions(model)\n",
    "print(f'Remove unused conjunctions: {unused_conj}')\n",
    "print()\n",
    "\n",
    "print('Prune conj layer')\n",
    "prune_count = prune_layer_weight(model2, SemiSymbolicLayerType.CONJUNCTION, \n",
    "    prune_epsilon, val_loader)\n",
    "_, new_jacc = eval_multi_class_dnf(model2, val_loader)\n",
    "print(f'Pruned conj count:   {prune_count}')\n",
    "print(f'New perf after conj: {new_jacc:.3f}\\n')\n",
    "\n",
    "removed_disj = remove_disjunctions_when_empty_conjunctions(model)\n",
    "print(\n",
    "    f'Remove disjunction that uses empty conjunctions: {removed_disj}'\n",
    ")\n",
    "print()\n",
    "\n",
    "print('Prune disj layer again')\n",
    "prune_count = prune_layer_weight(model2, SemiSymbolicLayerType.DISJUNCTION,\n",
    "    prune_epsilon, val_loader)\n",
    "_, new_jacc = eval_multi_class_dnf(model2, val_loader)\n",
    "print(f'Pruned disj count:   {prune_count}')\n",
    "print(f'New perf after disj: {new_jacc:.3f}')"
   ]
  },
  {
   "cell_type": "code",
   "execution_count": 16,
   "metadata": {},
   "outputs": [],
   "source": [
    "sd = model.state_dict()\n",
    "sd.pop('eo_layer.weights')\n",
    "model2.load_state_dict(sd)\n",
    "pre_threshold_sd = model2.state_dict()"
   ]
  },
  {
   "cell_type": "code",
   "execution_count": 17,
   "metadata": {},
   "outputs": [],
   "source": [
    "def apply_threshold(\n",
    "    model, og_conj_weight, og_disj_weight, t_val, const: float = 6.0,\n",
    ") -> None:\n",
    "    new_conj_weight = (\n",
    "        (torch.abs(og_conj_weight) > t_val) * torch.sign(og_conj_weight) * const\n",
    "    )\n",
    "    model.dnf.conjunctions.weights.data = new_conj_weight\n",
    "\n",
    "    new_disj_weight = (\n",
    "        (torch.abs(og_disj_weight) > t_val) * torch.sign(og_disj_weight) * const\n",
    "    )\n",
    "    model.dnf.disjunctions.weights.data = new_disj_weight"
   ]
  },
  {
   "cell_type": "code",
   "execution_count": 18,
   "metadata": {},
   "outputs": [
    {
     "name": "stdout",
     "output_type": "stream",
     "text": [
      "Best t: 0.250    Acc: 0.981\n",
      "Jacc after threshold: 0.981\n"
     ]
    }
   ],
   "source": [
    "# model2.load_state_dict(pre_threshold_sd)\n",
    "\n",
    "conj_min = torch.min(model2.dnf.conjunctions.weights.data)\n",
    "conj_max = torch.max(model2.dnf.conjunctions.weights.data)\n",
    "disj_min = torch.min(model2.dnf.disjunctions.weights.data)\n",
    "disj_max = torch.max(model2.dnf.disjunctions.weights.data)\n",
    "\n",
    "abs_max = torch.max(torch.abs(torch.Tensor([conj_min, conj_max, disj_min, disj_max])))\n",
    "\n",
    "og_conj_weight = model2.dnf.conjunctions.weights.data.clone()\n",
    "og_disj_weight = model2.dnf.disjunctions.weights.data.clone()\n",
    "\n",
    "jacc_scores = []\n",
    "t_vals = torch.arange(0, abs_max + 0.01, 0.01)\n",
    "\n",
    "for v in t_vals:\n",
    "    apply_threshold(model2, og_conj_weight, og_disj_weight,\n",
    "                              v, 6.0)\n",
    "    _, jacc = eval_multi_class_dnf(model2, val_loader)\n",
    "    jacc_scores.append(jacc)\n",
    "\n",
    "best_jacc_score = max(jacc_scores)\n",
    "best_t = t_vals[torch.argmax(torch.Tensor(jacc_scores))]\n",
    "print(f'Best t: {best_t.item():.3f}    Acc: {best_jacc_score:.3f}')\n",
    "apply_threshold(model2, og_conj_weight, og_disj_weight, best_t)\n",
    "_, final_jacc = eval_multi_class_dnf(model2, val_loader)\n",
    "print(f'Jacc after threshold: {final_jacc:.3f}')"
   ]
  },
  {
   "cell_type": "code",
   "execution_count": 19,
   "metadata": {},
   "outputs": [],
   "source": [
    "final_sd = model2.state_dict()\n",
    "\n",
    "output_rules = []\n",
    "\n",
    "# Get all conjunctions\n",
    "conj_w = final_sd[\"dnf.conjunctions.weights\"]\n",
    "conjunction_map = dict()\n",
    "for i, w in enumerate(conj_w):\n",
    "    if torch.all(w == 0):\n",
    "        # No conjunction is applied here\n",
    "        continue\n",
    "\n",
    "    conjuncts = []\n",
    "    for j, v in enumerate(w):\n",
    "        if v < 0:\n",
    "            # Negative weight, negate the atom\n",
    "            conjuncts.append(f\"not has_attr_{j}\")\n",
    "        elif v > 0:\n",
    "            # Positive weight, normal atom\n",
    "            conjuncts.append(f\"has_attr_{j}\")\n",
    "\n",
    "    conjunction_map[i] = conjuncts\n",
    "\n",
    "# Get DNF\n",
    "disj_w = final_sd[\"dnf.disjunctions.weights\"]\n",
    "not_covered_classes = []\n",
    "for i, w in enumerate(disj_w):\n",
    "    if torch.all(w == 0):\n",
    "        # No DNF for class i\n",
    "        not_covered_classes.append(i)\n",
    "        continue\n",
    "\n",
    "    disjuncts = []\n",
    "    for j, v in enumerate(w):\n",
    "        if v < 0 and j in conjunction_map:\n",
    "            # Negative weight, negate the existing conjunction\n",
    "            \n",
    "            # Need to add auxilary predicate (conj_X) which is not yet\n",
    "            # in the final rules list\n",
    "            output_rules.append(\n",
    "                f\"conj_{j} :- {', '.join(conjunction_map[j])}.\"\n",
    "            )\n",
    "            output_rules.append(f\"class({i}) :- not conj_{j}.\")\n",
    "        elif v > 0 and j in conjunction_map:\n",
    "            # Postivie weight, add normal conjunction\n",
    "            body = \", \".join(conjunction_map[j])\n",
    "            output_rules.append(f\"class({i}) :- {body}.\")"
   ]
  },
  {
   "cell_type": "code",
   "execution_count": 20,
   "metadata": {},
   "outputs": [
    {
     "name": "stdout",
     "output_type": "stream",
     "text": [
      "Jaccard score: 0.974\n"
     ]
    }
   ],
   "source": [
    "show_statements = [f'#show class/1.']\n",
    "\n",
    "\n",
    "jacc_scores = []\n",
    "total_sample_count = 0\n",
    "\n",
    "for x_batch, y_batch in test_loader:\n",
    "    for i in range(len(x_batch)):\n",
    "        x = x_batch[i]\n",
    "        y = torch.where(y_batch[i] == 1)[0].item()\n",
    "        x_asp = [f\"has_attr_{j}.\" for j in range(len(x)) if x[j] == 1]\n",
    "        ctl = clingo.Control([\"--warn=none\"])\n",
    "        ctl.add(\"base\", [], \" \".join(x_asp + output_rules + show_statements))\n",
    "        ctl.ground([(\"base\", [])])\n",
    "        with ctl.solve(yield_=True) as handle:  # type: ignore\n",
    "            all_answer_sets = [str(a) for a in handle]\n",
    "\n",
    "        target_class = f\"class({y})\"\n",
    "\n",
    "        if len(all_answer_sets) != 1:\n",
    "            # No or multiple answer sets, should not happen\n",
    "            print('No or multiple answer sets when evaluating rules.')\n",
    "            continue\n",
    "\n",
    "        output_classes = all_answer_sets[0].split(\" \")\n",
    "        output_classes_set = set(output_classes)\n",
    "\n",
    "        target_class_set = {target_class}\n",
    "\n",
    "        jacc = len(output_classes_set & target_class_set) / len(\n",
    "            output_classes_set | target_class_set\n",
    "        )\n",
    "        jacc_scores.append(jacc)\n",
    "        total_sample_count += 1\n",
    "\n",
    "print(f'Jaccard score: {sum(jacc_scores) / total_sample_count:.3f}')"
   ]
  },
  {
   "cell_type": "code",
   "execution_count": 21,
   "metadata": {},
   "outputs": [
    {
     "data": {
      "text/plain": [
       "['class(0) :- has_attr_0, has_attr_6, not has_attr_9, has_attr_10, has_attr_13, has_attr_14.',\n",
       " 'class(0) :- has_attr_0, has_attr_6, has_attr_8, has_attr_10, has_attr_13, has_attr_14.',\n",
       " 'class(1) :- has_attr_7, has_attr_9, has_attr_11.',\n",
       " 'class(2) :- has_attr_3, has_attr_5, has_attr_6, has_attr_9, not has_attr_10, not has_attr_11, has_attr_13.',\n",
       " 'conj_3 :- has_attr_2, has_attr_7, has_attr_8.',\n",
       " 'class(2) :- not conj_3.',\n",
       " 'class(2) :- not has_attr_2, not has_attr_8.',\n",
       " 'class(2) :- has_attr_3, has_attr_5, not has_attr_11, has_attr_13.']"
      ]
     },
     "execution_count": 21,
     "metadata": {},
     "output_type": "execute_result"
    }
   ],
   "source": [
    "output_rules"
   ]
  },
  {
   "cell_type": "code",
   "execution_count": 22,
   "metadata": {},
   "outputs": [
    {
     "data": {
      "text/plain": [
       "array(['c0 :- a0, a2, a6, a7, a8, a10, a13, a14.',\n",
       "       'c1 :- a1, a2, a4, a9, a12, a13.',\n",
       "       'c2 :- a2, a3, a4, a7, a11, a12, a14.',\n",
       "       'c3 :- a1, a4, a6, a11, a12, a13.', 'c4 :- a2, a7, a8, a9, a11.',\n",
       "       'c5 :- a1, a2, a4, a6, a8, a11, a13.',\n",
       "       'c6 :- a2, a3, a5, a6, a8, a9, a13.',\n",
       "       'c7 :- a3, a6, a9, a10, a11, a12.', 'c8 :- a5, a9, a10.',\n",
       "       'class_0 :- c0.', 'class_1 :- c4.', 'class_1 :- c5.',\n",
       "       'class_2 :- c6.', 'class_2 :- c8.'], dtype='<U40')"
      ]
     },
     "execution_count": 22,
     "metadata": {},
     "output_type": "execute_result"
    }
   ],
   "source": [
    "dnpz['rule_str']"
   ]
  },
  {
   "cell_type": "code",
   "execution_count": null,
   "metadata": {},
   "outputs": [],
   "source": []
  }
 ],
 "metadata": {
  "kernelspec": {
   "display_name": "Python 3.8.10 ('venv')",
   "language": "python",
   "name": "python3"
  },
  "language_info": {
   "codemirror_mode": {
    "name": "ipython",
    "version": 3
   },
   "file_extension": ".py",
   "mimetype": "text/x-python",
   "name": "python",
   "nbconvert_exporter": "python",
   "pygments_lexer": "ipython3",
   "version": "3.10.6"
  },
  "orig_nbformat": 4,
  "vscode": {
   "interpreter": {
    "hash": "60f4e6e0934b482f46ff6ff5ba65bfe0692fda7391c7ef62ded80b7f64a3508e"
   }
  }
 },
 "nbformat": 4,
 "nbformat_minor": 2
}
