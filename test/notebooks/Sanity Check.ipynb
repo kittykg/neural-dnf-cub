{
 "cells": [
  {
   "cell_type": "code",
   "execution_count": 1,
   "metadata": {},
   "outputs": [],
   "source": [
    "import sys\n",
    "\n",
    "sys.path.append('..')\n",
    "sys.path.append('../..')"
   ]
  },
  {
   "cell_type": "code",
   "execution_count": 2,
   "metadata": {},
   "outputs": [],
   "source": [
    "import numpy as np\n",
    "from sklearn.model_selection import train_test_split\n",
    "\n",
    "import torch\n",
    "from torch.utils.data import DataLoader"
   ]
  },
  {
   "cell_type": "code",
   "execution_count": 3,
   "metadata": {},
   "outputs": [],
   "source": [
    "from dnf_layer import SemiSymbolicLayerType\n",
    "from rule_learner import DNFClassifier\n",
    "from test_common import SyntheticDataset\n",
    "from utils import DeltaDelayedExponentialDecayScheduler"
   ]
  },
  {
   "cell_type": "code",
   "execution_count": 4,
   "metadata": {},
   "outputs": [],
   "source": [
    "SYNTH_DATA_PATH = 'synth_data_in10_conj5.npz'\n",
    "RNG_SEED = 75\n",
    "BATCH_SIZE = 64\n",
    "NUM_EPOCHS = 100"
   ]
  },
  {
   "cell_type": "code",
   "execution_count": 5,
   "metadata": {},
   "outputs": [],
   "source": [
    "torch.manual_seed(RNG_SEED)\n",
    "np.random.seed(RNG_SEED)"
   ]
  },
  {
   "cell_type": "code",
   "execution_count": 6,
   "metadata": {},
   "outputs": [],
   "source": [
    "dnpz = np.load(SYNTH_DATA_PATH)\n",
    "full_nullary = dnpz['nullary']\n",
    "full_target = dnpz['target']"
   ]
  },
  {
   "cell_type": "code",
   "execution_count": 7,
   "metadata": {},
   "outputs": [],
   "source": [
    "nullary_full_train, nullary_test, target_full_train, target_test = train_test_split(\n",
    "    full_nullary, full_target, random_state=RNG_SEED)\n",
    "nullary_train, nullary_val, target_train, target_val = train_test_split(\n",
    "    nullary_full_train, target_full_train, test_size=0.2, random_state=RNG_SEED\n",
    ")\n",
    "\n",
    "train_loader = DataLoader(SyntheticDataset(nullary_train, target_train), BATCH_SIZE)\n",
    "val_loader = DataLoader(SyntheticDataset(nullary_val, target_val), BATCH_SIZE)\n",
    "test_loader = DataLoader(SyntheticDataset(nullary_test, target_test), BATCH_SIZE)"
   ]
  },
  {
   "cell_type": "code",
   "execution_count": 8,
   "metadata": {},
   "outputs": [],
   "source": [
    "model = DNFClassifier(10, 5, 1, 0.1)\n",
    "delta_decay_scheduler = DeltaDelayedExponentialDecayScheduler(\n",
    "    initial_delta=0.1,\n",
    "    delta_decay_delay=10,\n",
    "    delta_decay_steps=1,\n",
    "    delta_decay_rate=1.1,\n",
    ")\n",
    "optimiser = torch.optim.Adam(model.parameters(), 0.001)\n",
    "criterion = torch.nn.BCELoss()"
   ]
  },
  {
   "cell_type": "code",
   "execution_count": 9,
   "metadata": {},
   "outputs": [
    {
     "name": "stdout",
     "output_type": "stream",
     "text": [
      "[  1] Delta: 0.100  Train avg loss: 0.549  Val acc: 0.744\n",
      "[  2] Delta: 0.100  Train avg loss: 0.444  Val acc: 0.775\n",
      "[  3] Delta: 0.100  Train avg loss: 0.417  Val acc: 0.785\n",
      "[  4] Delta: 0.100  Train avg loss: 0.395  Val acc: 0.795\n",
      "[  5] Delta: 0.100  Train avg loss: 0.379  Val acc: 0.804\n",
      "[  6] Delta: 0.100  Train avg loss: 0.368  Val acc: 0.809\n",
      "[  7] Delta: 0.100  Train avg loss: 0.359  Val acc: 0.809\n",
      "[  8] Delta: 0.100  Train avg loss: 0.352  Val acc: 0.812\n",
      "[  9] Delta: 0.100  Train avg loss: 0.345  Val acc: 0.811\n",
      "[ 10] Delta: 0.100  Train avg loss: 0.331  Val acc: 0.853\n",
      "[ 11] Delta: 0.100  Train avg loss: 0.306  Val acc: 0.893\n",
      "[ 12] Delta: 0.110  Train avg loss: 0.287  Val acc: 0.897\n",
      "[ 13] Delta: 0.121  Train avg loss: 0.265  Val acc: 0.906\n",
      "[ 14] Delta: 0.133  Train avg loss: 0.244  Val acc: 0.917\n",
      "[ 15] Delta: 0.146  Train avg loss: 0.224  Val acc: 0.928\n",
      "[ 16] Delta: 0.161  Train avg loss: 0.205  Val acc: 0.935\n",
      "[ 17] Delta: 0.177  Train avg loss: 0.186  Val acc: 0.937\n",
      "[ 18] Delta: 0.195  Train avg loss: 0.168  Val acc: 0.943\n",
      "[ 19] Delta: 0.214  Train avg loss: 0.150  Val acc: 0.951\n",
      "[ 20] Delta: 0.236  Train avg loss: 0.132  Val acc: 0.959\n",
      "[ 21] Delta: 0.259  Train avg loss: 0.115  Val acc: 0.966\n",
      "[ 22] Delta: 0.285  Train avg loss: 0.099  Val acc: 0.974\n",
      "[ 23] Delta: 0.314  Train avg loss: 0.084  Val acc: 0.979\n",
      "[ 24] Delta: 0.345  Train avg loss: 0.071  Val acc: 0.981\n",
      "[ 25] Delta: 0.380  Train avg loss: 0.059  Val acc: 0.983\n",
      "[ 26] Delta: 0.418  Train avg loss: 0.049  Val acc: 0.986\n",
      "[ 27] Delta: 0.459  Train avg loss: 0.041  Val acc: 0.989\n",
      "[ 28] Delta: 0.505  Train avg loss: 0.036  Val acc: 0.989\n",
      "[ 29] Delta: 0.556  Train avg loss: 0.031  Val acc: 0.991\n",
      "[ 30] Delta: 0.612  Train avg loss: 0.027  Val acc: 0.993\n",
      "[ 31] Delta: 0.673  Train avg loss: 0.024  Val acc: 0.993\n",
      "[ 32] Delta: 0.740  Train avg loss: 0.021  Val acc: 0.994\n",
      "[ 33] Delta: 0.814  Train avg loss: 0.019  Val acc: 0.994\n",
      "[ 34] Delta: 0.895  Train avg loss: 0.016  Val acc: 0.996\n",
      "[ 35] Delta: 0.985  Train avg loss: 0.015  Val acc: 0.996\n",
      "[ 36] Delta: 1.000  Train avg loss: 0.014  Val acc: 0.996\n",
      "[ 37] Delta: 1.000  Train avg loss: 0.012  Val acc: 0.998\n",
      "[ 38] Delta: 1.000  Train avg loss: 0.011  Val acc: 0.998\n",
      "[ 39] Delta: 1.000  Train avg loss: 0.010  Val acc: 0.998\n",
      "[ 40] Delta: 1.000  Train avg loss: 0.009  Val acc: 0.998\n",
      "[ 41] Delta: 1.000  Train avg loss: 0.009  Val acc: 0.999\n",
      "[ 42] Delta: 1.000  Train avg loss: 0.008  Val acc: 0.999\n",
      "[ 43] Delta: 1.000  Train avg loss: 0.008  Val acc: 0.999\n",
      "[ 44] Delta: 1.000  Train avg loss: 0.007  Val acc: 0.999\n",
      "[ 45] Delta: 1.000  Train avg loss: 0.007  Val acc: 0.999\n",
      "[ 46] Delta: 1.000  Train avg loss: 0.007  Val acc: 0.999\n",
      "[ 47] Delta: 1.000  Train avg loss: 0.006  Val acc: 0.999\n",
      "[ 48] Delta: 1.000  Train avg loss: 0.006  Val acc: 0.999\n",
      "[ 49] Delta: 1.000  Train avg loss: 0.006  Val acc: 0.999\n",
      "[ 50] Delta: 1.000  Train avg loss: 0.005  Val acc: 0.999\n",
      "[ 51] Delta: 1.000  Train avg loss: 0.005  Val acc: 0.999\n",
      "[ 52] Delta: 1.000  Train avg loss: 0.005  Val acc: 0.999\n",
      "[ 53] Delta: 1.000  Train avg loss: 0.005  Val acc: 1.000\n",
      "[ 54] Delta: 1.000  Train avg loss: 0.004  Val acc: 1.000\n",
      "[ 55] Delta: 1.000  Train avg loss: 0.004  Val acc: 1.000\n",
      "[ 56] Delta: 1.000  Train avg loss: 0.004  Val acc: 1.000\n",
      "[ 57] Delta: 1.000  Train avg loss: 0.003  Val acc: 1.000\n",
      "[ 58] Delta: 1.000  Train avg loss: 0.003  Val acc: 1.000\n",
      "[ 59] Delta: 1.000  Train avg loss: 0.003  Val acc: 1.000\n",
      "[ 60] Delta: 1.000  Train avg loss: 0.003  Val acc: 1.000\n",
      "[ 61] Delta: 1.000  Train avg loss: 0.003  Val acc: 1.000\n",
      "[ 62] Delta: 1.000  Train avg loss: 0.002  Val acc: 1.000\n",
      "[ 63] Delta: 1.000  Train avg loss: 0.002  Val acc: 1.000\n",
      "[ 64] Delta: 1.000  Train avg loss: 0.002  Val acc: 1.000\n",
      "[ 65] Delta: 1.000  Train avg loss: 0.002  Val acc: 1.000\n",
      "[ 66] Delta: 1.000  Train avg loss: 0.002  Val acc: 1.000\n",
      "[ 67] Delta: 1.000  Train avg loss: 0.002  Val acc: 1.000\n",
      "[ 68] Delta: 1.000  Train avg loss: 0.002  Val acc: 1.000\n",
      "[ 69] Delta: 1.000  Train avg loss: 0.002  Val acc: 1.000\n",
      "[ 70] Delta: 1.000  Train avg loss: 0.001  Val acc: 1.000\n",
      "[ 71] Delta: 1.000  Train avg loss: 0.001  Val acc: 1.000\n",
      "[ 72] Delta: 1.000  Train avg loss: 0.001  Val acc: 1.000\n",
      "[ 73] Delta: 1.000  Train avg loss: 0.001  Val acc: 1.000\n",
      "[ 74] Delta: 1.000  Train avg loss: 0.001  Val acc: 1.000\n",
      "[ 75] Delta: 1.000  Train avg loss: 0.001  Val acc: 1.000\n",
      "[ 76] Delta: 1.000  Train avg loss: 0.001  Val acc: 1.000\n",
      "[ 77] Delta: 1.000  Train avg loss: 0.001  Val acc: 1.000\n",
      "[ 78] Delta: 1.000  Train avg loss: 0.001  Val acc: 1.000\n",
      "[ 79] Delta: 1.000  Train avg loss: 0.001  Val acc: 1.000\n",
      "[ 80] Delta: 1.000  Train avg loss: 0.001  Val acc: 1.000\n",
      "[ 81] Delta: 1.000  Train avg loss: 0.001  Val acc: 1.000\n",
      "[ 82] Delta: 1.000  Train avg loss: 0.001  Val acc: 1.000\n",
      "[ 83] Delta: 1.000  Train avg loss: 0.001  Val acc: 1.000\n",
      "[ 84] Delta: 1.000  Train avg loss: 0.001  Val acc: 1.000\n",
      "[ 85] Delta: 1.000  Train avg loss: 0.001  Val acc: 1.000\n",
      "[ 86] Delta: 1.000  Train avg loss: 0.001  Val acc: 1.000\n",
      "[ 87] Delta: 1.000  Train avg loss: 0.001  Val acc: 1.000\n",
      "[ 88] Delta: 1.000  Train avg loss: 0.001  Val acc: 1.000\n",
      "[ 89] Delta: 1.000  Train avg loss: 0.001  Val acc: 1.000\n",
      "[ 90] Delta: 1.000  Train avg loss: 0.001  Val acc: 1.000\n",
      "[ 91] Delta: 1.000  Train avg loss: 0.001  Val acc: 1.000\n",
      "[ 92] Delta: 1.000  Train avg loss: 0.001  Val acc: 1.000\n",
      "[ 93] Delta: 1.000  Train avg loss: 0.001  Val acc: 1.000\n",
      "[ 94] Delta: 1.000  Train avg loss: 0.001  Val acc: 1.000\n",
      "[ 95] Delta: 1.000  Train avg loss: 0.001  Val acc: 1.000\n",
      "[ 96] Delta: 1.000  Train avg loss: 0.001  Val acc: 1.000\n",
      "[ 97] Delta: 1.000  Train avg loss: 0.001  Val acc: 1.000\n",
      "[ 98] Delta: 1.000  Train avg loss: 0.001  Val acc: 1.000\n",
      "[ 99] Delta: 1.000  Train avg loss: 0.001  Val acc: 1.000\n",
      "[100] Delta: 1.000  Train avg loss: 0.001  Val acc: 1.000\n"
     ]
    }
   ],
   "source": [
    "for i in range(NUM_EPOCHS):\n",
    "    model.train()\n",
    "    epoch_loss = []\n",
    "    for x, y in train_loader:\n",
    "        optimiser.zero_grad()\n",
    "        y_hat = (torch.tanh(model(x.float())) + 1) / 2\n",
    "        loss = criterion(y_hat.squeeze(), (y == 1).float() )\n",
    "        loss.backward()\n",
    "        optimiser.step()\n",
    "\n",
    "        epoch_loss.append(loss.item())\n",
    "    \n",
    "    model.eval()    \n",
    "    val_correct = 0\n",
    "    val_total = 0\n",
    "    for x, y in val_loader:\n",
    "        with torch.no_grad():\n",
    "            y_hat = torch.tanh(model(x.float()))\n",
    "            y_pred = torch.where(y_hat > 0, 1, -1)\n",
    "            comp = y_pred.squeeze() == y\n",
    "            val_correct += torch.count_nonzero(comp).item()\n",
    "            val_total += len(y)\n",
    "\n",
    "    new_delta_val = delta_decay_scheduler.step(model, i)\n",
    "    avg_loss = sum(epoch_loss) / len(epoch_loss)\n",
    "    print(f'[{i + 1:3d}] Delta: {new_delta_val:.3f}  '\n",
    "          f'Train avg loss: {avg_loss:.3f}  '\n",
    "          f'Val acc: {val_correct / val_total:.3f}')"
   ]
  },
  {
   "cell_type": "code",
   "execution_count": 10,
   "metadata": {},
   "outputs": [],
   "source": [
    "torch.save(model.state_dict(), f'dnf_synth_{RNG_SEED}.pth')"
   ]
  },
  {
   "cell_type": "code",
   "execution_count": 11,
   "metadata": {},
   "outputs": [],
   "source": [
    "# model.load_state_dict(torch.load(f'dnf_synth_{RNG_SEED}.pth')) "
   ]
  },
  {
   "cell_type": "code",
   "execution_count": 12,
   "metadata": {},
   "outputs": [],
   "source": [
    "def eval_binary_dnf(model, data_loader, print_error=False):\n",
    "    model.eval()\n",
    "\n",
    "    correct = 0\n",
    "    total = 0\n",
    "\n",
    "    for x, y in data_loader:\n",
    "        with torch.no_grad():\n",
    "            y_hat = torch.tanh(model(x.float()))\n",
    "            y_pred = torch.where(y_hat > 0, 1, -1)\n",
    "            comp = y_pred.squeeze() == y\n",
    "            correct += torch.count_nonzero(comp).item()\n",
    "            total += len(y)\n",
    "\n",
    "            if torch.count_nonzero(comp) != len(y) and print_error:\n",
    "                print(x)\n",
    "                print(y_pred.squeeze())\n",
    "                print(y)\n",
    "                print()\n",
    "    \n",
    "    return correct, total\n"
   ]
  },
  {
   "cell_type": "code",
   "execution_count": 13,
   "metadata": {},
   "outputs": [
    {
     "name": "stdout",
     "output_type": "stream",
     "text": [
      "Total:   4995\n",
      "Correct: 4992\n",
      "Acc:     0.999\n"
     ]
    }
   ],
   "source": [
    "correct, total =  eval_binary_dnf(model, test_loader)\n",
    "print(f'Total:   {total}')\n",
    "print(f'Correct: {correct}')\n",
    "print(f'Acc:     {correct / total:.3f}')"
   ]
  },
  {
   "cell_type": "code",
   "execution_count": 14,
   "metadata": {},
   "outputs": [],
   "source": [
    "def prune_layer_weight(\n",
    "    model,\n",
    "    layer_type: SemiSymbolicLayerType,\n",
    "    epsilon: float,\n",
    "    data_loader: DataLoader,\n",
    ") -> int:\n",
    "    if layer_type == SemiSymbolicLayerType.CONJUNCTION:\n",
    "        curr_weight = model.dnf.conjunctions.weights.data.clone()\n",
    "    else:\n",
    "        curr_weight = model.dnf.disjunctions.weights.data.clone()\n",
    "\n",
    "    og_correct, og_total = eval_binary_dnf(model, data_loader)\n",
    "    og_accuracy = og_correct / og_total\n",
    "\n",
    "    prune_count = 0\n",
    "    weight_device = curr_weight.device\n",
    "\n",
    "    flatten_weight_len = len(torch.reshape(curr_weight, (-1,)))\n",
    "    base_iterator = range(flatten_weight_len)\n",
    "    for i in base_iterator:\n",
    "        curr_weight_flatten = torch.reshape(curr_weight, (-1,))\n",
    "\n",
    "        if curr_weight_flatten[i] == 0:\n",
    "            continue\n",
    "\n",
    "        mask = torch.ones(flatten_weight_len, device=weight_device)\n",
    "        mask[i] = 0\n",
    "        mask = mask.reshape(curr_weight.shape)\n",
    "\n",
    "        masked_weight = curr_weight * mask\n",
    "\n",
    "        if layer_type == SemiSymbolicLayerType.CONJUNCTION:\n",
    "            model.dnf.conjunctions.weights.data = masked_weight\n",
    "        else:\n",
    "            model.dnf.disjunctions.weights.data = masked_weight\n",
    "\n",
    "        new_correct, new_total = eval_binary_dnf(model, data_loader)\n",
    "        new_accuracy = new_correct / new_total\n",
    "        performance_drop = og_accuracy - new_accuracy\n",
    "        if performance_drop < epsilon:\n",
    "            prune_count += 1\n",
    "            curr_weight *= mask\n",
    "\n",
    "    if layer_type == SemiSymbolicLayerType.CONJUNCTION:\n",
    "        model.dnf.conjunctions.weights.data = curr_weight\n",
    "    else:\n",
    "        model.dnf.disjunctions.weights.data = curr_weight\n",
    "    return prune_count"
   ]
  },
  {
   "cell_type": "code",
   "execution_count": 15,
   "metadata": {},
   "outputs": [
    {
     "name": "stdout",
     "output_type": "stream",
     "text": [
      "Prune disj layer\n",
      "Pruned disj count:   4\n",
      "New perf after disj: 1.000\n",
      "Prune conj layer\n",
      "Pruned conj count:   43\n",
      "New perf after conj: 0.997\n"
     ]
    }
   ],
   "source": [
    "prune_epsilon = 0.005\n",
    "print('Prune disj layer')\n",
    "prune_count = prune_layer_weight(model, SemiSymbolicLayerType.DISJUNCTION, \n",
    "    prune_epsilon, val_loader)\n",
    "new_correct, new_total = eval_binary_dnf(model, val_loader)\n",
    "print(f'Pruned disj count:   {prune_count}')\n",
    "print(f'New perf after disj: {new_correct / new_total:.3f}')\n",
    "\n",
    "print('Prune conj layer')\n",
    "prune_count = prune_layer_weight(model, SemiSymbolicLayerType.CONJUNCTION, \n",
    "    prune_epsilon, val_loader)\n",
    "new_correct, new_total = eval_binary_dnf(model, val_loader)\n",
    "print(f'Pruned conj count:   {prune_count}')\n",
    "print(f'New perf after conj: {new_correct / new_total:.3f}')"
   ]
  },
  {
   "cell_type": "code",
   "execution_count": 16,
   "metadata": {},
   "outputs": [],
   "source": [
    "pre_threshold_sd = model.state_dict()"
   ]
  },
  {
   "cell_type": "code",
   "execution_count": 17,
   "metadata": {},
   "outputs": [],
   "source": [
    "def apply_threshold(\n",
    "    model, og_conj_weight, og_disj_weight, t_val, const: float = 6.0,\n",
    ") -> None:\n",
    "    new_conj_weight = (\n",
    "        (torch.abs(og_conj_weight) > t_val) * torch.sign(og_conj_weight) * const\n",
    "    )\n",
    "    model.dnf.conjunctions.weights.data = new_conj_weight\n",
    "\n",
    "    new_disj_weight = (\n",
    "        (torch.abs(og_disj_weight) > t_val) * torch.sign(og_disj_weight) * const\n",
    "    )\n",
    "    model.dnf.disjunctions.weights.data = new_disj_weight"
   ]
  },
  {
   "cell_type": "code",
   "execution_count": 18,
   "metadata": {},
   "outputs": [
    {
     "name": "stdout",
     "output_type": "stream",
     "text": [
      "Best t: 0.000    Acc: 0.997\n",
      "Jacc after threshold: 0.997\n"
     ]
    }
   ],
   "source": [
    "# model.load_state_dict(pre_threshold_sd)\n",
    "\n",
    "conj_min = torch.min(model.dnf.conjunctions.weights.data)\n",
    "conj_max = torch.max(model.dnf.conjunctions.weights.data)\n",
    "disj_min = torch.min(model.dnf.disjunctions.weights.data)\n",
    "disj_max = torch.max(model.dnf.disjunctions.weights.data)\n",
    "\n",
    "abs_max = torch.max(torch.abs(torch.Tensor([conj_min, conj_max, disj_min, disj_max])))\n",
    "\n",
    "og_conj_weight = model.dnf.conjunctions.weights.data.clone()\n",
    "og_disj_weight = model.dnf.disjunctions.weights.data.clone()\n",
    "\n",
    "acc_scores = []\n",
    "t_vals = torch.arange(0, abs_max + 0.01, 0.01)\n",
    "\n",
    "for v in t_vals:\n",
    "    apply_threshold(model, og_conj_weight, og_disj_weight,\n",
    "                              v, 6.0)\n",
    "    correct, total = eval_binary_dnf(model, val_loader)\n",
    "    acc = correct / total\n",
    "    acc_scores.append(acc)\n",
    "\n",
    "best_acc_score = max(acc_scores)\n",
    "best_t = t_vals[torch.argmax(torch.Tensor(acc_scores))]\n",
    "print(f'Best t: {best_t.item():.3f}    Acc: {best_acc_score:.3f}')\n",
    "apply_threshold(model, og_conj_weight, og_disj_weight, best_t)\n",
    "final_correct, final_total = eval_binary_dnf(model, val_loader)\n",
    "print(f'Jacc after threshold: {final_correct / final_total:.3f}')"
   ]
  },
  {
   "cell_type": "code",
   "execution_count": 19,
   "metadata": {},
   "outputs": [],
   "source": [
    "final_sd = model.state_dict()\n",
    "\n",
    "output_rules = []\n",
    "\n",
    "# Get all conjunctions\n",
    "conj_w = final_sd[\"dnf.conjunctions.weights\"]\n",
    "conjunction_map = dict()\n",
    "for i, w in enumerate(conj_w):\n",
    "    if torch.all(w == 0):\n",
    "        # No conjunction is applied here\n",
    "        continue\n",
    "\n",
    "    conjuncts = []\n",
    "    for j, v in enumerate(w):\n",
    "        if v < 0:\n",
    "            # Negative weight, negate the atom\n",
    "            conjuncts.append(f\"not has_attr_{j}\")\n",
    "        elif v > 0:\n",
    "            # Positive weight, normal atom\n",
    "            conjuncts.append(f\"has_attr_{j}\")\n",
    "\n",
    "    conjunction_map[i] = conjuncts\n",
    "\n",
    "# Get DNF\n",
    "disj_w = final_sd[\"dnf.disjunctions.weights\"]\n",
    "not_covered_classes = []\n",
    "for i, w in enumerate(disj_w):\n",
    "    if torch.all(w == 0):\n",
    "        # No DNF for class i\n",
    "        not_covered_classes.append(i)\n",
    "        continue\n",
    "\n",
    "    disjuncts = []\n",
    "    for j, v in enumerate(w):\n",
    "        if v < 0 and j in conjunction_map:\n",
    "            # Negative weight, negate the existing conjunction\n",
    "            \n",
    "            # Need to add auxilary predicate (conj_X) which is not yet\n",
    "            # in the final rules list\n",
    "            output_rules.append(\n",
    "                f\"conj_{j} :- {', '.join(conjunction_map[j])}.\"\n",
    "            )\n",
    "            output_rules.append(f\"class({i}) :- not conj_{j}.\")\n",
    "        elif v > 0 and j in conjunction_map:\n",
    "            # Postivie weight, add normal conjunction\n",
    "            body = \", \".join(conjunction_map[j])\n",
    "            output_rules.append(f\"class({i}) :- {body}.\")"
   ]
  },
  {
   "cell_type": "code",
   "execution_count": 20,
   "metadata": {},
   "outputs": [
    {
     "data": {
      "text/plain": [
       "tensor([[ 0.,  0.,  0.,  0.,  0.,  0.,  0.,  0.,  0.,  0.],\n",
       "        [ 0.,  0.,  0.,  0.,  0.,  0.,  0.,  0.,  0.,  0.],\n",
       "        [ 0.,  0.,  0.,  0.,  0.,  0.,  0.,  0.,  0.,  0.],\n",
       "        [ 0.,  0.,  0.,  6.,  6., -6.,  6.,  6., -6.,  6.],\n",
       "        [ 0.,  0.,  0.,  0.,  0.,  0.,  0.,  0.,  0.,  0.]])"
      ]
     },
     "execution_count": 20,
     "metadata": {},
     "output_type": "execute_result"
    }
   ],
   "source": [
    "final_sd['dnf.conjunctions.weights']"
   ]
  },
  {
   "cell_type": "code",
   "execution_count": 21,
   "metadata": {},
   "outputs": [
    {
     "data": {
      "text/plain": [
       "tensor([[0., 0., 0., 6., 0.]])"
      ]
     },
     "execution_count": 21,
     "metadata": {},
     "output_type": "execute_result"
    }
   ],
   "source": [
    "final_sd['dnf.disjunctions.weights']"
   ]
  },
  {
   "cell_type": "code",
   "execution_count": 22,
   "metadata": {},
   "outputs": [
    {
     "data": {
      "text/plain": [
       "['class(0) :- has_attr_3, has_attr_4, not has_attr_5, has_attr_6, has_attr_7, not has_attr_8, has_attr_9.']"
      ]
     },
     "execution_count": 22,
     "metadata": {},
     "output_type": "execute_result"
    }
   ],
   "source": [
    "output_rules"
   ]
  },
  {
   "cell_type": "code",
   "execution_count": 23,
   "metadata": {},
   "outputs": [
    {
     "data": {
      "text/plain": [
       "array(['t :- not nullary(1), not nullary(2), nullary(3), nullary(4), not nullary(5), nullary(6), nullary(7), not nullary(8), nullary(9).'],\n",
       "      dtype='<U128')"
      ]
     },
     "execution_count": 23,
     "metadata": {},
     "output_type": "execute_result"
    }
   ],
   "source": [
    "dnpz['rule_str']"
   ]
  },
  {
   "cell_type": "code",
   "execution_count": null,
   "metadata": {},
   "outputs": [],
   "source": []
  }
 ],
 "metadata": {
  "kernelspec": {
   "display_name": "Python 3.8.10 ('venv')",
   "language": "python",
   "name": "python3"
  },
  "language_info": {
   "codemirror_mode": {
    "name": "ipython",
    "version": 3
   },
   "file_extension": ".py",
   "mimetype": "text/x-python",
   "name": "python",
   "nbconvert_exporter": "python",
   "pygments_lexer": "ipython3",
   "version": "3.8.10"
  },
  "orig_nbformat": 4,
  "vscode": {
   "interpreter": {
    "hash": "60f4e6e0934b482f46ff6ff5ba65bfe0692fda7391c7ef62ded80b7f64a3508e"
   }
  }
 },
 "nbformat": 4,
 "nbformat_minor": 2
}
